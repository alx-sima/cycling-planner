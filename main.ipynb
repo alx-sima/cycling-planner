{
 "cells": [
  {
   "cell_type": "code",
   "execution_count": 1,
   "id": "3b6ce4c0",
   "metadata": {},
   "outputs": [],
   "source": [
    "from api import WeatherApi\n",
    "from gpx import read_gpx"
   ]
  },
  {
   "cell_type": "code",
   "execution_count": 2,
   "id": "666de415",
   "metadata": {},
   "outputs": [],
   "source": [
    "api = WeatherApi()\n",
    "data = read_gpx(api, \"data/cu_martoaga_la_deal.gpx\")"
   ]
  }
 ],
 "metadata": {
  "kernelspec": {
   "display_name": ".venv",
   "language": "python",
   "name": "python3"
  },
  "language_info": {
   "codemirror_mode": {
    "name": "ipython",
    "version": 3
   },
   "file_extension": ".py",
   "mimetype": "text/x-python",
   "name": "python",
   "nbconvert_exporter": "python",
   "pygments_lexer": "ipython3",
   "version": "3.13.5"
  }
 },
 "nbformat": 4,
 "nbformat_minor": 5
}
